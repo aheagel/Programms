{
 "cells": [
  {
   "cell_type": "markdown",
   "metadata": {},
   "source": [
    "## Data preparation with PANDAS"
   ]
  },
  {
   "cell_type": "code",
   "execution_count": 85,
   "metadata": {},
   "outputs": [],
   "source": [
    "import pandas as pd\n",
    "\n",
    "\n",
    "# Power plant conditions\n",
    "p_conditions = pd.DataFrame({\"Power plant\":           [\"Ahlen\", \"Fjället\",  \"Forsen\",   \"Kärret\"],\n",
    "                           \"Initial reservoir level\": [5800e6,  1000e6,     20e6,       13e6    ],\n",
    "                           \"Maximum reservoir level\": [7160e6,  1675e6,     27e6,       13e6    ],\n",
    "                           \"Minimum reservoir level\": [5800e6,  1000e6,     10e6,       6e6     ],\n",
    "                           \"Discharge capacity\":      [540,     135,        975,        680     ],\n",
    "                           \"Power conversion\":        [0.52,    1.17,       0.29,       0.05    ],\n",
    "                           \"Maximum spillage\":        [820,     930,        360,        400     ],\n",
    "                           \"Local flow\":              [177,     28,         8,          29      ],\n",
    "                          })\n",
    "\n",
    "# Time conditions\n",
    "t_conditions = pd.DataFrame({\"Time\": range(1,12),\n",
    "                             \"Cost1\": [45, 55, 80, 80, 110, 110, 80, 30, 70, 0, 0],\n",
    "                             \"Cost2\": [45, 55, 95, 80, 80, 130, 130, 60, 95, 0, 0],\n",
    "                             \"Cost3\": [45, 55, 120, 90, 140, 105, 80, 90, 120, 0, 0]})\n",
    "\n",
    "tt_condtions = pd.melt(t_conditions, id_vars=[\"Time\"], var_name=\"Cost\", value_name=\"Value\") # meh men orkar inte\n",
    "\n",
    "# Flow conditions (Connections between the power plants)\n",
    "f_conditions = pd.DataFrame({\"From\": [\"Ahlen\",  \"Fjället\",  \"Forsen\"],\n",
    "                             \"To\":   [\"Forsen\", \"Forsen\",   \"Kärret\"],\n",
    "                             \"Time\": [2,        1,          1]\n",
    "                            })\n"
   ]
  },
  {
   "cell_type": "markdown",
   "metadata": {},
   "source": [
    "## GAMSPy FTW"
   ]
  },
  {
   "cell_type": "markdown",
   "metadata": {},
   "source": [
    "### Initializing all our Parameters and Varaibales etc"
   ]
  },
  {
   "cell_type": "code",
   "execution_count": 86,
   "metadata": {},
   "outputs": [],
   "source": [
    "\n",
    "from gamspy import Container, Set, Variable, Parameter, Equation, Sum, Model, Sense, Alias\n",
    "\n",
    "\n",
    "m = Container()\n",
    "\n",
    "t = Set(m, name=\"t\", description=\"time in hours\", records=t_conditions['Time']) # time at begining of hour 1, 2, 3, ...\n",
    "p = Set(m, name=\"p\", description=\"Power plant\", records=p_conditions['Power plant'])\n",
    "s = Set(m, name=\"s\", description=\"Scenario\", records=tt_condtions['Cost'].unique())\n",
    "\n",
    "# Create alias for set p\n",
    "p_up = Alias(m, name=\"p_up\", alias_with=p)\n",
    "\n",
    "# Parameter and Variables definitions\n",
    "\n",
    "\n",
    "delay = Parameter(m, name=\"delay\", domain=[p,p], description=\"Time delay for upstream plants\", records=f_conditions[['From', 'To', 'Time']])\n",
    "\n",
    "prices = Parameter(m, name=\"prices\", domain=[t,s], description=\"Prices (MWh) at different hours\", records=tt_condtions[['Time', 'Cost', 'Value']])\n",
    "\n",
    "reservoir_init = Parameter(m, name=\"reservoir_init\", domain=p, description=\"Initial reservoir level\", records=p_conditions[['Power plant', 'Initial reservoir level']])\n",
    "reservoir_max = Parameter(m, name=\"reservoir_max\", domain=p, description=\"Maximum reservoir level\", records=p_conditions[['Power plant', 'Maximum reservoir level']])\n",
    "reservoir_min = Parameter(m, name=\"reservoir_min\", domain=p, description=\"Minimum reservoir level\", records=p_conditions[['Power plant', 'Minimum reservoir level']])\n",
    "discharge_max = Parameter(m, name=\"discharge_max\", domain=p, description=\"Discharge capacity\", records=p_conditions[['Power plant', 'Discharge capacity']])\n",
    "power_conversion = Parameter(m, name=\"power_conversion\", domain=p, description=\"Power conversion\", records=p_conditions[['Power plant', 'Power conversion']])\n",
    "spillage_max = Parameter(m, name=\"spillage_max\", domain=p, description=\"Maximum spillage\", records=p_conditions[['Power plant', 'Maximum spillage']])\n",
    "local_flow = Parameter(m, name=\"local_flow\", domain=p, description=\"Local flow\", records=p_conditions[['Power plant', 'Local flow']])\n",
    "\n",
    "# Variables\n",
    "discharge = Variable(m, name=\"discharge\", type=\"positive\", domain=[t,p,s], description=\"Discharge rate at each power plant at each time\")\n",
    "spillage = Variable(m, name=\"spillage\", type=\"positive\", domain=[t,p,s], description=\"Spillage rate at each power plant at each time\")\n",
    "reservoir_level = Variable(m, name=\"reservoir_level\", domain=[t,p,s], description=\"Reservoir level at each power plant at each time\")\n",
    "potential_volume = Variable(m, name=\"potential_volume\", domain=[p,s], description=\"Potential volume at each power plant at last time (T=10)\")"
   ]
  },
  {
   "cell_type": "markdown",
   "metadata": {},
   "source": [
    "### Equations and condtions"
   ]
  },
  {
   "cell_type": "code",
   "execution_count": 87,
   "metadata": {},
   "outputs": [],
   "source": [
    "# Discharge criteria\n",
    "discharge.up[t,p,s] = discharge_max[p]\n",
    "\n",
    "# Spillage criteria\n",
    "spillage.up[t,p,s] = spillage_max[p]\n",
    "\n",
    "# Reservoir level criteria\n",
    "reservoir_level.lo[t,p,s].where[t.ord > 1] = reservoir_min[p]\n",
    "reservoir_level.up[t,p,s].where[t.ord > 1] = reservoir_max[p]\n",
    "reservoir_level.fx[t,p,s].where[t.first] = reservoir_init[p] # Initial reservoir level should be set to reservoir initial level\n",
    "\n",
    "# Strategic lock criteria \n",
    "strategic_lock12 = Equation(m, name=\"strategic_lock12\", domain=[t,p], description=\"Strategic lock at the first two hours\")\n",
    "strategic_lock12[t,p].where[t.ord < 3] = discharge[t,p,\"Cost1\"] == discharge[t,p,\"Cost2\"]\n",
    "\n",
    "strategic_lock13 = Equation(m, name=\"strategic_lock13\", domain=[t,p], description=\"Strategic lock at the first two hours\")\n",
    "strategic_lock13[t,p].where[t.ord < 3] = discharge[t,p,\"Cost1\"] == discharge[t,p,\"Cost3\"]\n",
    "\n",
    "# Potential volume criteria\n",
    "potential = Equation(m, name=\"potential\", domain=[p,s], description=\"Potential volume at each power plant based on the volume at last time (T=10) and power plant above\")\n",
    "potential[p,s] = potential_volume[p,s] == Sum(p_up.where[delay[p_up,p]>0], potential_volume[p_up,s]) + reservoir_level[\"10\",p,s] - reservoir_min[p]\n",
    "\n",
    "# Single reservoir equation for all plants\n",
    "reservoirs = Equation(m, name=\"reservoirs\", domain=[t,p,s], description=\"Reservoir level at power plant (p) at different hours (t)\")\n",
    "reservoirs[t,p,s].where[t.ord > 1] = reservoir_level[t,p,s] == reservoir_level[t.lag(1),p,s] + 3600 * (\n",
    "        # Upstream inflows\n",
    "        Sum(p_up.where[delay[p_up,p]>0], \n",
    "            discharge[t.lag(delay[p_up, p]), p_up, s] + spillage[t.lag(delay[p_up, p]), p_up, s]\n",
    "        )\n",
    "\n",
    "        # Local inflow\n",
    "        + local_flow[p]\n",
    "\n",
    "        # Outflows\n",
    "        - discharge[t.lag(1),p,s]\n",
    "        - spillage[t.lag(1),p,s]\n",
    "    )"
   ]
  },
  {
   "cell_type": "markdown",
   "metadata": {},
   "source": [
    "### Obejctive"
   ]
  },
  {
   "cell_type": "code",
   "execution_count": 88,
   "metadata": {},
   "outputs": [],
   "source": [
    "obj = Sum((t, p, s), 1/3*prices[t,s]*3600*power_conversion[p]*discharge[t,p,s]) + Sum((p,s), 95*power_conversion[p]*potential_volume[p,s])"
   ]
  },
  {
   "cell_type": "markdown",
   "metadata": {},
   "source": [
    "## Solution"
   ]
  },
  {
   "cell_type": "code",
   "execution_count": 89,
   "metadata": {},
   "outputs": [
    {
     "data": {
      "text/html": [
       "<div>\n",
       "<style scoped>\n",
       "    .dataframe tbody tr th:only-of-type {\n",
       "        vertical-align: middle;\n",
       "    }\n",
       "\n",
       "    .dataframe tbody tr th {\n",
       "        vertical-align: top;\n",
       "    }\n",
       "\n",
       "    .dataframe thead th {\n",
       "        text-align: right;\n",
       "    }\n",
       "</style>\n",
       "<table border=\"1\" class=\"dataframe\">\n",
       "  <thead>\n",
       "    <tr style=\"text-align: right;\">\n",
       "      <th></th>\n",
       "      <th>Solver Status</th>\n",
       "      <th>Model Status</th>\n",
       "      <th>Objective</th>\n",
       "      <th>Num of Equations</th>\n",
       "      <th>Num of Variables</th>\n",
       "      <th>Model Type</th>\n",
       "      <th>Solver</th>\n",
       "      <th>Solver Time</th>\n",
       "    </tr>\n",
       "  </thead>\n",
       "  <tbody>\n",
       "    <tr>\n",
       "      <th>0</th>\n",
       "      <td>Normal</td>\n",
       "      <td>OptimalGlobal</td>\n",
       "      <td>1040125726.66679</td>\n",
       "      <td>149</td>\n",
       "      <td>385</td>\n",
       "      <td>LP</td>\n",
       "      <td>CPLEX</td>\n",
       "      <td>0.002</td>\n",
       "    </tr>\n",
       "  </tbody>\n",
       "</table>\n",
       "</div>"
      ],
      "text/plain": [
       "  Solver Status   Model Status         Objective Num of Equations  \\\n",
       "0        Normal  OptimalGlobal  1040125726.66679              149   \n",
       "\n",
       "  Num of Variables Model Type Solver Solver Time  \n",
       "0              385         LP  CPLEX       0.002  "
      ]
     },
     "execution_count": 89,
     "metadata": {},
     "output_type": "execute_result"
    }
   ],
   "source": [
    "flow = Model(m, name=\"flow\", equations=m.getEquations(), objective=obj, problem=\"LP\", sense=Sense.MAX)\n",
    "flow.solve(solver=\"CPLEX\")"
   ]
  },
  {
   "cell_type": "markdown",
   "metadata": {},
   "source": [
    "1406579020\t"
   ]
  },
  {
   "cell_type": "code",
   "execution_count": 90,
   "metadata": {},
   "outputs": [],
   "source": [
    "from IPython.display import HTML\n",
    "\n",
    "def horizontal(dfs):\n",
    "    html = '<div style=\"display:flex\">'\n",
    "    for df in dfs:\n",
    "        html += '<div style=\"margin-right: 32px\">'\n",
    "        html += df.to_html()\n",
    "        html += '</div>'\n",
    "    html += '</div>'\n",
    "    display(HTML(html))"
   ]
  }
 ],
 "metadata": {
  "kernelspec": {
   "display_name": "base",
   "language": "python",
   "name": "python3"
  },
  "language_info": {
   "codemirror_mode": {
    "name": "ipython",
    "version": 3
   },
   "file_extension": ".py",
   "mimetype": "text/x-python",
   "name": "python",
   "nbconvert_exporter": "python",
   "pygments_lexer": "ipython3",
   "version": "3.12.4"
  }
 },
 "nbformat": 4,
 "nbformat_minor": 2
}
