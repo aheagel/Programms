{
 "cells": [
  {
   "cell_type": "markdown",
   "metadata": {},
   "source": [
    "## Problem formulation and Data processing\n"
   ]
  },
  {
   "cell_type": "code",
   "execution_count": 27,
   "metadata": {},
   "outputs": [],
   "source": [
    "import pandas as pd\n",
    "jump_conditions = pd.DataFrame({'jump': range(1,10)\n",
    "                                })\n",
    "\n",
    "direction_conditions = pd.DataFrame({'direction':   ['north',   'south',    'east',     'west'  ],\n",
    "                                     'delta_x_max': [2,         2,          3,          -2      ],\n",
    "                                     'delta_y_max': [4,         -3,         2,          2       ],\n",
    "                                     'delta_x_min': [-2,        -2,         2,          -3      ],\n",
    "                                     'delta_y_min': [3,         -4,         -2,         -2      ]})"
   ]
  },
  {
   "cell_type": "code",
   "execution_count": 28,
   "metadata": {},
   "outputs": [],
   "source": [
    "from gamspy import Container, Set, Variable, Parameter, Equation, Sum, Model, Sense\n",
    "\n",
    "m = Container()\n",
    "i = Set(m, name='i', description=\"The i'th jump\", records=jump_conditions['jump'])\n",
    "d = Set(m, name='d', description=\"jump direction\", records=direction_conditions['direction'])\n",
    "vert_d = Set(m, name='horz_d', description=\"horizontal directions\", records=['north', 'south'])\n",
    "horz_d = Set(m, name='vert_d', description=\"vertical directions\", records=['east', 'west'])\n",
    "\n",
    "#minmax_dy = Parameter(m, name='minmax_dy', description=\"(min, max) delta y for each direction\", domain=d, records=direction_conditions[['direction','delta_y']])\n",
    "min_dx = Parameter(m, name='min_dx', description=\"min delta x for each direction\", domain=d, records=direction_conditions[['direction','delta_x_min']])\n",
    "max_dx = Parameter(m, name='max_dx', description=\"max delta x for each direction\", domain=d, records=direction_conditions[['direction','delta_x_max']])\n",
    "min_dy = Parameter(m, name='min_dy', description=\"min delta y for each direction\", domain=d, records=direction_conditions[['direction','delta_y_min']])\n",
    "max_dy = Parameter(m, name='max_dy', description=\"max delta y for each direction\", domain=d, records=direction_conditions[['direction','delta_y_max']])\n",
    "\n",
    "decisions = Variable(m, name='decisions', type='binary', description=\"jump decision in all direction at each time\", domain=[i,d])\n",
    "\n",
    "dx = Variable(m, name='dx', description=\"delta x for each jump\", domain=[i,d])\n",
    "dy = Variable(m, name='dy', description=\"delta y for each jump\", domain=[i,d])\n",
    "\n",
    "position_x = Variable(m, name='position_x', description=\"x position at each jump\", domain=i)\n",
    "position_y = Variable(m, name='position_y', description=\"y position at each jump\", domain=i)\n",
    "\n",
    "hax = Variable(m, name='hole_x', type='sos1', description=\"around the hole center in d direction\", domain=[i, horz_d])\n",
    "hay = Variable(m, name='hole_y', type='sos1', description=\"around the hole center in d direction\", domain=[i, vert_d])\n",
    "\n",
    "abs_dx = Variable(m, name='abs_dx', type='positive', description=\"absolute delta x for each jump\", domain=[i])\n",
    "abs_dy = Variable(m, name='abs_dy', type='positive', description=\"absolute delta y for each jump\", domain=[i])\n",
    "\n",
    "inhole = Variable(m, name='inhole', type='binary', description=\"is in the hole\", domain=i)\n"
   ]
  },
  {
   "cell_type": "markdown",
   "metadata": {},
   "source": [
    "## Equation "
   ]
  },
  {
   "cell_type": "code",
   "execution_count": 29,
   "metadata": {},
   "outputs": [],
   "source": [
    "# Bad box\n",
    "(hole_miy, hole_may) = (7, 9)\n",
    "(hole_mix, hole_max) = (6, 8)\n",
    "\n",
    "# Get to end point.\n",
    "(start_x, start_y) = (0, 0)\n",
    "(end_x, end_y) = (13, 17)\n",
    "\n",
    "# Absolute value of delta x and delta y\n",
    "absdx_pos = Equation(m, name='absolute_delta_x_pos', description=\"Absolute value of delta x positive\", domain=i)\n",
    "absdx_pos[i] = abs_dx[i] >= Sum(d, dx[i,d])\n",
    "\n",
    "absdx_neg = Equation(m, name='absolute_delta_x_neg', description=\"Absolute value of delta x negative\", domain=i)\n",
    "absdx_neg[i] = abs_dx[i] >= -Sum(d, dx[i,d])\n",
    "\n",
    "absdy_pos = Equation(m, name='absolute_delta_y_pos', description=\"Absolute value of delta y positive\", domain=i)\n",
    "absdy_pos[i] = abs_dy[i] >= Sum(d, dy[i,d])\n",
    "\n",
    "absdy_neg = Equation(m, name='absolute_delta_y_neg', description=\"Absolute value of delta y negative\", domain=i)\n",
    "absdy_neg[i] = abs_dy[i] >= -Sum(d, dy[i,d])\n",
    "\n",
    "# Calculate current position\n",
    "position_x.fx[i].where[i.first] = start_x\n",
    "position_y.fx[i].where[i.first] = start_y\n",
    "pox = Equation(m, name='position_eqx', description=\"Calculate current position x\", domain=i)\n",
    "pox[i].where[i.ord > 1] = position_x[i] == position_x[i-1] + Sum(d, dx[i-1,d])\n",
    "\n",
    "poy = Equation(m, name='position_eqy', description=\"Calculate current position y\", domain=i)\n",
    "poy[i].where[i.ord > 1] = position_y[i] == position_y[i-1] + Sum(d, dy[i-1,d])\n",
    "\n",
    "## Box constraints start\n",
    "\n",
    "# Centralizing equations for further calculations\n",
    "obx = Equation(m, name='outside_box_xaxis', description=\"Force to be outside box in xaxis\", domain=i)\n",
    "obx[i] = position_x[i] == (inhole[i])*(hole_mix+hole_max)/2 + hax[i,'west'] - hax[i,'east']\n",
    "\n",
    "oby = Equation(m, name='outside_box_yaxis', description=\"Force to be outside box in yaxis\", domain=i)\n",
    "oby[i] = position_y[i] == (1-inhole[i])*(hole_miy+hole_may)/2 + hay[i,'north'] - hay[i,'south']\n",
    "\n",
    "\n",
    "# SOS1 constraints - only one deviation can be non-zero for each axis while the other one must be larger than radius\n",
    "r = 1e-4\n",
    "haxlo = Equation(m, name='hole_axis_x_lower', description=\"Force to be outside box in x axis\", domain=i)\n",
    "haxlo[i] = Sum(horz_d, hax[i,horz_d]) >= (inhole[i])*((hole_max-hole_mix)/2 + r)\n",
    "\n",
    "haylo = Equation(m, name='hole_axis_y_lower', description=\"Force to be outside box in y axis\", domain=i)\n",
    "haylo[i] = Sum(vert_d, hay[i,vert_d]) >= (1-inhole[i])*((hole_may-hole_miy)/2 + r)\n",
    "\n",
    "## Box constraints end\n",
    "\n",
    "# Force the delta to be in bound\n",
    "midx = Equation(m, name='minimum_delta_x', description=\"Force the delta to be in bound\", domain=[i,d])\n",
    "midx[i,d] = dx[i,d] >= min_dx[d]*decisions[i,d]\n",
    "\n",
    "madx = Equation(m, name='maximum_delta_x', description=\"Force the delta to be in bound\", domain=[i,d])\n",
    "madx[i,d] = dx[i,d] <= max_dx[d]*decisions[i,d]\n",
    "\n",
    "midy = Equation(m, name='minimum_delta_y', description=\"Force the delta to be in bound\", domain=[i,d])\n",
    "midy[i,d] = dy[i,d] >= min_dy[d]*decisions[i,d]\n",
    "\n",
    "mady = Equation(m, name='maximum_delta_y', description=\"Force the delta to be in bound\", domain=[i,d])\n",
    "mady[i,d]  = dy[i,d] <= max_dy[d]*decisions[i,d]      \n",
    "\n",
    "# Jump in one direction at each time. (Forces to jump all i times if == 1)\n",
    "cod = Equation(m, name='chose_one_direction', description=\"Jump in one direction at each time\", domain=i)\n",
    "cod[i] = Sum(d, decisions[i,d]) <= 1\n",
    "\n",
    "# End condition\n",
    "eax = Equation(m, name='end_at_x', description=\"forces to jump to end_x\")\n",
    "eax[...] = start_x + Sum((i,d), dx[i,d]) == end_x\n",
    "eay = Equation(m, name='end_at_y', description=\"forces to jump to end_y\")\n",
    "eay[...] = start_y + Sum((i,d), dy[i,d]) == end_y\n",
    "\n",
    "# Objective\n",
    "#obj = Sum((i,d), decisions[i,d])\n",
    "obj = Sum(i, abs_dx[i] + abs_dy[i])"
   ]
  },
  {
   "cell_type": "code",
   "execution_count": 30,
   "metadata": {},
   "outputs": [
    {
     "data": {
      "application/vnd.microsoft.datawrangler.viewer.v0+json": {
       "columns": [
        {
         "name": "index",
         "rawType": "int64",
         "type": "integer"
        },
        {
         "name": "Solver Status",
         "rawType": "object",
         "type": "string"
        },
        {
         "name": "Model Status",
         "rawType": "object",
         "type": "string"
        },
        {
         "name": "Objective",
         "rawType": "object",
         "type": "string"
        },
        {
         "name": "Num of Equations",
         "rawType": "object",
         "type": "string"
        },
        {
         "name": "Num of Variables",
         "rawType": "object",
         "type": "string"
        },
        {
         "name": "Model Type",
         "rawType": "object",
         "type": "string"
        },
        {
         "name": "Solver",
         "rawType": "object",
         "type": "string"
        },
        {
         "name": "Solver Time",
         "rawType": "object",
         "type": "string"
        }
       ],
       "conversionMethod": "pd.DataFrame",
       "ref": "400dbb2a-d066-4292-9657-eaf9e6fee6b6",
       "rows": [
        [
         "0",
         "Normal",
         "OptimalGlobal",
         "30",
         "244",
         "190",
         "MIP",
         "CPLEX",
         "0.039"
        ]
       ],
       "shape": {
        "columns": 8,
        "rows": 1
       }
      },
      "text/html": [
       "<div>\n",
       "<style scoped>\n",
       "    .dataframe tbody tr th:only-of-type {\n",
       "        vertical-align: middle;\n",
       "    }\n",
       "\n",
       "    .dataframe tbody tr th {\n",
       "        vertical-align: top;\n",
       "    }\n",
       "\n",
       "    .dataframe thead th {\n",
       "        text-align: right;\n",
       "    }\n",
       "</style>\n",
       "<table border=\"1\" class=\"dataframe\">\n",
       "  <thead>\n",
       "    <tr style=\"text-align: right;\">\n",
       "      <th></th>\n",
       "      <th>Solver Status</th>\n",
       "      <th>Model Status</th>\n",
       "      <th>Objective</th>\n",
       "      <th>Num of Equations</th>\n",
       "      <th>Num of Variables</th>\n",
       "      <th>Model Type</th>\n",
       "      <th>Solver</th>\n",
       "      <th>Solver Time</th>\n",
       "    </tr>\n",
       "  </thead>\n",
       "  <tbody>\n",
       "    <tr>\n",
       "      <th>0</th>\n",
       "      <td>Normal</td>\n",
       "      <td>OptimalGlobal</td>\n",
       "      <td>30</td>\n",
       "      <td>244</td>\n",
       "      <td>190</td>\n",
       "      <td>MIP</td>\n",
       "      <td>CPLEX</td>\n",
       "      <td>0.039</td>\n",
       "    </tr>\n",
       "  </tbody>\n",
       "</table>\n",
       "</div>"
      ],
      "text/plain": [
       "  Solver Status   Model Status Objective Num of Equations Num of Variables  \\\n",
       "0        Normal  OptimalGlobal        30              244              190   \n",
       "\n",
       "  Model Type Solver Solver Time  \n",
       "0        MIP  CPLEX       0.039  "
      ]
     },
     "execution_count": 30,
     "metadata": {},
     "output_type": "execute_result"
    }
   ],
   "source": [
    "jump = Model(m, name='jump', sense=Sense.MIN, objective=obj, equations=m.getEquations(), problem=\"MIP\")\n",
    "jump.solve()"
   ]
  },
  {
   "cell_type": "markdown",
   "metadata": {},
   "source": [
    "## Primals\n"
   ]
  },
  {
   "cell_type": "code",
   "execution_count": 31,
   "metadata": {},
   "outputs": [],
   "source": [
    "dyf = pd.DataFrame(dy.l.records).pivot(index='i', columns='d', values='level')\n",
    "dxf = pd.DataFrame(dx.l.records).pivot(index='i', columns='d', values='level')\n",
    "dec_f = pd.DataFrame(decisions.l.records).pivot(index='i', columns='d', values='level')\n",
    "\n",
    "dyf = dyf.loc[dec_f.sum(axis=1) > 0].reset_index(drop=True)\n",
    "dxf = dxf.loc[dec_f.sum(axis=1) > 0].reset_index(drop=True)\n",
    "dec_f = dec_f.loc[dec_f.sum(axis=1) > 0].reset_index(drop=True)"
   ]
  },
  {
   "cell_type": "code",
   "execution_count": 32,
   "metadata": {},
   "outputs": [],
   "source": [
    "import numpy as np\n",
    "\n",
    "x_path = np.insert(dxf.sum(axis=1).cumsum().to_numpy(), 0, start_x)\n",
    "y_path = np.insert(dyf.sum(axis=1).cumsum().to_numpy(), 0, start_y)"
   ]
  },
  {
   "cell_type": "code",
   "execution_count": 33,
   "metadata": {},
   "outputs": [
    {
     "data": {
      "text/plain": [
       "[<matplotlib.axis.YTick at 0x140dfb050>,\n",
       " <matplotlib.axis.YTick at 0x140c48860>,\n",
       " <matplotlib.axis.YTick at 0x140c4bdd0>,\n",
       " <matplotlib.axis.YTick at 0x140dfcbf0>,\n",
       " <matplotlib.axis.YTick at 0x140dfd6a0>,\n",
       " <matplotlib.axis.YTick at 0x140e4d7f0>,\n",
       " <matplotlib.axis.YTick at 0x140dfddf0>,\n",
       " <matplotlib.axis.YTick at 0x140dfe6c0>,\n",
       " <matplotlib.axis.YTick at 0x140dfefc0>,\n",
       " <matplotlib.axis.YTick at 0x140dff860>,\n",
       " <matplotlib.axis.YTick at 0x140e681d0>,\n",
       " <matplotlib.axis.YTick at 0x140dfe270>,\n",
       " <matplotlib.axis.YTick at 0x140dbf6e0>,\n",
       " <matplotlib.axis.YTick at 0x140e68fb0>,\n",
       " <matplotlib.axis.YTick at 0x140e698e0>,\n",
       " <matplotlib.axis.YTick at 0x140e6a2a0>,\n",
       " <matplotlib.axis.YTick at 0x140dfcec0>,\n",
       " <matplotlib.axis.YTick at 0x140e6a9c0>]"
      ]
     },
     "execution_count": 33,
     "metadata": {},
     "output_type": "execute_result"
    },
    {
     "data": {
      "image/png": "[encoded data removed]",
      "text/plain": [
       "<Figure size 640x480 with 1 Axes>"
      ]
     },
     "metadata": {},
     "output_type": "display_data"
    }
   ],
   "source": [
    "import matplotlib.pyplot as plt\n",
    "\n",
    "ax = plt.subplot(111)\n",
    "ax.plot(x_path, y_path, 'go-')\n",
    "ax.plot([hole_mix, hole_max, hole_max, hole_max, hole_max, hole_mix, hole_mix, hole_mix],\n",
    "         [hole_miy, hole_miy, hole_may, hole_may, hole_may, hole_may, hole_miy, hole_miy],\n",
    "         'r--', linewidth=2)\n",
    "\n",
    "ax.set_xlabel('x')\n",
    "ax.set_ylabel('y', rotation=0)\n",
    "ax.spines[['right', 'top']].set_visible(False)\n",
    "ax.grid()\n",
    "ax.set_aspect('equal', adjustable='box')\n",
    "ax.set_xticks(range(14))\n",
    "ax.set_yticks(range(18))"
   ]
  },
  {
   "cell_type": "code",
   "execution_count": 34,
   "metadata": {},
   "outputs": [
    {
     "data": {
      "text/plain": [
       "(   i  level\n",
       " 0  1    0.0\n",
       " 1  2    0.0\n",
       " 2  3    3.0\n",
       " 3  4    4.0\n",
       " 4  5    7.0\n",
       " 5  6   10.0\n",
       " 6  7   10.0\n",
       " 7  8   13.0\n",
       " 8  9   13.0,\n",
       "    i    level\n",
       " 0  1   0.0000\n",
       " 1  2   4.0000\n",
       " 2  3   6.0000\n",
       " 3  4   9.0001\n",
       " 4  5   9.0001\n",
       " 5  6   9.0001\n",
       " 6  7  13.0001\n",
       " 7  8  13.0001\n",
       " 8  9  13.0001)"
      ]
     },
     "execution_count": 34,
     "metadata": {},
     "output_type": "execute_result"
    }
   ],
   "source": [
    "position_x.l.records, position_y.l.records"
   ]
  }
 ],
 "metadata": {
  "kernelspec": {
   "display_name": "base",
   "language": "python",
   "name": "python3"
  },
  "language_info": {
   "codemirror_mode": {
    "name": "ipython",
    "version": 3
   },
   "file_extension": ".py",
   "mimetype": "text/x-python",
   "name": "python",
   "nbconvert_exporter": "python",
   "pygments_lexer": "ipython3",
   "version": "3.12.4"
  }
 },
 "nbformat": 4,
 "nbformat_minor": 2
}
