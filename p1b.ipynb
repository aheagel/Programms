{
 "cells": [
  {
   "cell_type": "markdown",
   "metadata": {},
   "source": [
    "## Problem formulation and Data processing\n"
   ]
  },
  {
   "cell_type": "code",
   "execution_count": 13,
   "metadata": {},
   "outputs": [],
   "source": [
    "import pandas as pd\n",
    "jump_conditions = pd.DataFrame({'jump': range(1,11)\n",
    "                                })\n",
    "\n",
    "direction_conditions = pd.DataFrame({'direction':   ['north',   'south',    'east',     'west'  ],\n",
    "                                     'delta_x_max': [2,         2,          3,          -2      ],\n",
    "                                     'delta_y_max': [4,         -3,         2,          2       ],\n",
    "                                     'delta_x_min': [-2,        -2,         2,          -3      ],\n",
    "                                     'delta_y_min': [3,         -4,         -2,         -2      ]})"
   ]
  },
  {
   "cell_type": "code",
   "execution_count": 14,
   "metadata": {},
   "outputs": [],
   "source": [
    "from gamspy import Container, Set, Variable, Parameter, Equation, Sum, Model, Sense, Alias\n",
    "\n",
    "m = Container()\n",
    "i = Set(m, name='i', description=\"The i'th jump\", records=jump_conditions['jump'])\n",
    "d = Set(m, name='d', description=\"jump direction\", records=direction_conditions['direction'])\n",
    "\n",
    "#minmax_dy = Parameter(m, name='minmax_dy', description=\"(min, max) delta y for each direction\", domain=d, records=direction_conditions[['direction','delta_y']])\n",
    "min_dx = Parameter(m, name='min_dx', description=\"min delta x for each direction\", domain=d, records=direction_conditions[['direction','delta_x_min']])\n",
    "max_dx = Parameter(m, name='max_dx', description=\"max delta x for each direction\", domain=d, records=direction_conditions[['direction','delta_x_max']])\n",
    "min_dy = Parameter(m, name='min_dy', description=\"min delta y for each direction\", domain=d, records=direction_conditions[['direction','delta_y_min']])\n",
    "max_dy = Parameter(m, name='max_dy', description=\"max delta y for each direction\", domain=d, records=direction_conditions[['direction','delta_y_max']])\n",
    "\n",
    "decisions = Variable(m, name='decisions', type='binary', description=\"jump decision in all direction at each time\", domain=[i,d])\n",
    "\n",
    "dx = Variable(m, name='dx', description=\"delta x for each jump\", domain=[i,d])\n",
    "dy = Variable(m, name='dy', description=\"delta y for each jump\", domain=[i,d])\n",
    "\n",
    "abs_dx = Variable(m, name='abs_dx', description=\"absolute delta x for each jump\", domain=[i])\n",
    "abs_dy = Variable(m, name='abs_dy', description=\"absolute delta y for each jump\", domain=[i])"
   ]
  },
  {
   "cell_type": "markdown",
   "metadata": {},
   "source": [
    "## Equation "
   ]
  },
  {
   "cell_type": "code",
   "execution_count": 15,
   "metadata": {},
   "outputs": [],
   "source": [
    "# Force the delta to be in bound\n",
    "midx = Equation(m, name='minimum_delta_x', description=\"Force the delta to be in bound\", domain=[i,d])\n",
    "midx[i,d] = dx[i,d] >= min_dx[d]*decisions[i,d]\n",
    "\n",
    "madx = Equation(m, name='maximum_delta_x', description=\"Force the delta to be in bound\", domain=[i,d])\n",
    "madx[i,d] = dx[i,d] <= max_dx[d]*decisions[i,d]\n",
    "\n",
    "midy = Equation(m, name='minimum_delta_y', description=\"Force the delta to be in bound\", domain=[i,d])\n",
    "midy[i,d] = dy[i,d] >= min_dy[d]*decisions[i,d]\n",
    "\n",
    "mady = Equation(m, name='maximum_delta_y', description=\"Force the delta to be in bound\", domain=[i,d])\n",
    "mady[i,d] = dy[i,d] <= max_dy[d]*decisions[i,d]\n",
    "\n",
    "# Absolute value of delta x and delta y\n",
    "absdx_pos = Equation(m, name='absolute_delta_x_pos', description=\"Absolute value of delta x positive\", domain=i)\n",
    "absdx_pos[i] = abs_dx[i] >= Sum(d, dx[i,d])\n",
    "\n",
    "absdx_neg = Equation(m, name='absolute_delta_x_neg', description=\"Absolute value of delta x negative\", domain=i)\n",
    "absdx_neg[i] = abs_dx[i] >= -Sum(d, dx[i,d])\n",
    "\n",
    "absdy_pos = Equation(m, name='absolute_delta_y_pos', description=\"Absolute value of delta y positive\", domain=i)\n",
    "absdy_pos[i] = abs_dy[i] >= Sum(d, dy[i,d])\n",
    "\n",
    "absdy_neg = Equation(m, name='absolute_delta_y_neg', description=\"Absolute value of delta y negative\", domain=i)\n",
    "absdy_neg[i] = abs_dy[i] >= -Sum(d, dy[i,d])\n",
    "\n",
    "# Jump in one direction at each time. (Forces to jump all i times)\n",
    "cod = Equation(m, name='chose_one_direction', description=\"Jump in one direction at each time\", domain=i)\n",
    "cod[i] = Sum(d, decisions[i,d]) <= 1\n",
    "\n",
    "# Get to end point.\n",
    "(start_x, start_y) = (0, 0)\n",
    "(end_x, end_y) = (13, 17)\n",
    "\n",
    "eax = Equation(m, name='end_at_x', description=\"forces to jump to end_x\")\n",
    "eax[...] = start_x + Sum((i,d), dx[i,d]) == end_x\n",
    "eay = Equation(m, name='end_at_y', description=\"forces to jump to end_y\")\n",
    "eay[...] = start_y + Sum((i,d), dy[i,d]) == end_y\n",
    "\n",
    "obj = Sum(i, abs_dx[i] + abs_dy[i])"
   ]
  },
  {
   "cell_type": "code",
   "execution_count": 16,
   "metadata": {},
   "outputs": [
    {
     "data": {
      "application/vnd.microsoft.datawrangler.viewer.v0+json": {
       "columns": [
        {
         "name": "index",
         "rawType": "int64",
         "type": "integer"
        },
        {
         "name": "Solver Status",
         "rawType": "object",
         "type": "string"
        },
        {
         "name": "Model Status",
         "rawType": "object",
         "type": "string"
        },
        {
         "name": "Objective",
         "rawType": "object",
         "type": "string"
        },
        {
         "name": "Num of Equations",
         "rawType": "object",
         "type": "string"
        },
        {
         "name": "Num of Variables",
         "rawType": "object",
         "type": "string"
        },
        {
         "name": "Model Type",
         "rawType": "object",
         "type": "string"
        },
        {
         "name": "Solver",
         "rawType": "object",
         "type": "string"
        },
        {
         "name": "Solver Time",
         "rawType": "object",
         "type": "string"
        }
       ],
       "conversionMethod": "pd.DataFrame",
       "ref": "d7bd515e-0823-486f-b8e8-002dccd880d6",
       "rows": [
        [
         "0",
         "Normal",
         "OptimalGlobal",
         "30",
         "213",
         "141",
         "MIP",
         "CPLEX",
         "0.044"
        ]
       ],
       "shape": {
        "columns": 8,
        "rows": 1
       }
      },
      "text/html": [
       "<div>\n",
       "<style scoped>\n",
       "    .dataframe tbody tr th:only-of-type {\n",
       "        vertical-align: middle;\n",
       "    }\n",
       "\n",
       "    .dataframe tbody tr th {\n",
       "        vertical-align: top;\n",
       "    }\n",
       "\n",
       "    .dataframe thead th {\n",
       "        text-align: right;\n",
       "    }\n",
       "</style>\n",
       "<table border=\"1\" class=\"dataframe\">\n",
       "  <thead>\n",
       "    <tr style=\"text-align: right;\">\n",
       "      <th></th>\n",
       "      <th>Solver Status</th>\n",
       "      <th>Model Status</th>\n",
       "      <th>Objective</th>\n",
       "      <th>Num of Equations</th>\n",
       "      <th>Num of Variables</th>\n",
       "      <th>Model Type</th>\n",
       "      <th>Solver</th>\n",
       "      <th>Solver Time</th>\n",
       "    </tr>\n",
       "  </thead>\n",
       "  <tbody>\n",
       "    <tr>\n",
       "      <th>0</th>\n",
       "      <td>Normal</td>\n",
       "      <td>OptimalGlobal</td>\n",
       "      <td>30</td>\n",
       "      <td>213</td>\n",
       "      <td>141</td>\n",
       "      <td>MIP</td>\n",
       "      <td>CPLEX</td>\n",
       "      <td>0.044</td>\n",
       "    </tr>\n",
       "  </tbody>\n",
       "</table>\n",
       "</div>"
      ],
      "text/plain": [
       "  Solver Status   Model Status Objective Num of Equations Num of Variables  \\\n",
       "0        Normal  OptimalGlobal        30              213              141   \n",
       "\n",
       "  Model Type Solver Solver Time  \n",
       "0        MIP  CPLEX       0.044  "
      ]
     },
     "execution_count": 16,
     "metadata": {},
     "output_type": "execute_result"
    }
   ],
   "source": [
    "jump = Model(m, name='jump', sense=Sense.MIN, objective=obj, equations=m.getEquations(), problem=\"MIP\")\n",
    "jump.solve()"
   ]
  },
  {
   "cell_type": "markdown",
   "metadata": {},
   "source": [
    "## Primals\n"
   ]
  },
  {
   "cell_type": "code",
   "execution_count": 17,
   "metadata": {},
   "outputs": [],
   "source": [
    "dyf = pd.DataFrame(dy.l.records).pivot(index='i', columns='d', values='level')\n",
    "dxf = pd.DataFrame(dx.l.records).pivot(index='i', columns='d', values='level')\n",
    "dec_f = pd.DataFrame(decisions.l.records).pivot(index='i', columns='d', values='level')\n",
    "\n",
    "dyf = dyf.loc[dec_f.sum(axis=1) > 0].reset_index(drop=True)\n",
    "dxf = dxf.loc[dec_f.sum(axis=1) > 0].reset_index(drop=True)\n",
    "dec_f = dec_f.loc[dec_f.sum(axis=1) > 0].reset_index(drop=True)"
   ]
  },
  {
   "cell_type": "code",
   "execution_count": 28,
   "metadata": {},
   "outputs": [
    {
     "data": {
      "text/plain": [
       "[<matplotlib.axis.YTick at 0x141b400b0>,\n",
       " <matplotlib.axis.YTick at 0x141bc81d0>,\n",
       " <matplotlib.axis.YTick at 0x141b20c80>,\n",
       " <matplotlib.axis.YTick at 0x141b267b0>,\n",
       " <matplotlib.axis.YTick at 0x141ad1b50>,\n",
       " <matplotlib.axis.YTick at 0x141ad2c00>,\n",
       " <matplotlib.axis.YTick at 0x141b25cd0>,\n",
       " <matplotlib.axis.YTick at 0x141ad1400>,\n",
       " <matplotlib.axis.YTick at 0x141ad1ee0>,\n",
       " <matplotlib.axis.YTick at 0x141ad1340>,\n",
       " <matplotlib.axis.YTick at 0x141ad1ac0>,\n",
       " <matplotlib.axis.YTick at 0x141ab4da0>,\n",
       " <matplotlib.axis.YTick at 0x141ad2c60>,\n",
       " <matplotlib.axis.YTick at 0x141ab6780>,\n",
       " <matplotlib.axis.YTick at 0x141ab5ac0>,\n",
       " <matplotlib.axis.YTick at 0x141ab49e0>,\n",
       " <matplotlib.axis.YTick at 0x141ab5ca0>,\n",
       " <matplotlib.axis.YTick at 0x141ab4050>]"
      ]
     },
     "execution_count": 28,
     "metadata": {},
     "output_type": "execute_result"
    },
    {
     "data": {
      "image/png": "[encoded data removed]",
      "text/plain": [
       "<Figure size 640x480 with 1 Axes>"
      ]
     },
     "metadata": {},
     "output_type": "display_data"
    }
   ],
   "source": [
    "import numpy as np\n",
    "\n",
    "x_path = np.insert(dxf.sum(axis=1).cumsum().to_numpy(), 0, start_x)\n",
    "y_path = np.insert(dyf.sum(axis=1).cumsum().to_numpy(), 0, start_y)\n",
    "\n",
    "import matplotlib.pyplot as plt\n",
    "ax = plt.subplot(111)\n",
    "ax.plot(x_path, y_path, 'go-')\n",
    "\n",
    "ax.set_xlabel('x')\n",
    "ax.set_ylabel('y', rotation=0)\n",
    "ax.spines[['right', 'top']].set_visible(False)\n",
    "ax.grid()\n",
    "ax.set_aspect('equal', adjustable='box')\n",
    "ax.set_xticks(range(14))\n",
    "ax.set_yticks(range(18))"
   ]
  }
 ],
 "metadata": {
  "kernelspec": {
   "display_name": "base",
   "language": "python",
   "name": "python3"
  },
  "language_info": {
   "codemirror_mode": {
    "name": "ipython",
    "version": 3
   },
   "file_extension": ".py",
   "mimetype": "text/x-python",
   "name": "python",
   "nbconvert_exporter": "python",
   "pygments_lexer": "ipython3",
   "version": "3.12.4"
  }
 },
 "nbformat": 4,
 "nbformat_minor": 2
}
